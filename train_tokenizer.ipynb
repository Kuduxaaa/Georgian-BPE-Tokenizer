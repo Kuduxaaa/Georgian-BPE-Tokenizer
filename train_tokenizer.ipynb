{
 "cells": [
  {
   "cell_type": "code",
   "execution_count": 32,
   "metadata": {
    "execution": {
     "iopub.execute_input": "2025-03-22T18:32:34.729233Z",
     "iopub.status.busy": "2025-03-22T18:32:34.728790Z",
     "iopub.status.idle": "2025-03-22T18:32:34.733936Z",
     "shell.execute_reply": "2025-03-22T18:32:34.733097Z",
     "shell.execute_reply.started": "2025-03-22T18:32:34.729201Z"
    },
    "trusted": true
   },
   "outputs": [],
   "source": [
    "import re, os\n",
    "\n",
    "from tqdm.auto import tqdm\n",
    "from datasets import load_dataset\n",
    "from tokenizers import (\n",
    "    Tokenizer, \n",
    "    Regex, \n",
    "    models, \n",
    "    trainers, \n",
    "    pre_tokenizers, \n",
    "    decoders, \n",
    "    normalizers\n",
    ")"
   ]
  },
  {
   "cell_type": "code",
   "execution_count": 33,
   "metadata": {
    "execution": {
     "iopub.execute_input": "2025-03-22T18:32:34.735179Z",
     "iopub.status.busy": "2025-03-22T18:32:34.734955Z",
     "iopub.status.idle": "2025-03-22T18:32:34.754010Z",
     "shell.execute_reply": "2025-03-22T18:32:34.753282Z",
     "shell.execute_reply.started": "2025-03-22T18:32:34.735159Z"
    },
    "trusted": true
   },
   "outputs": [],
   "source": [
    "SIZE=800_000"
   ]
  },
  {
   "cell_type": "code",
   "execution_count": 34,
   "metadata": {
    "execution": {
     "iopub.execute_input": "2025-03-22T18:32:34.755673Z",
     "iopub.status.busy": "2025-03-22T18:32:34.755448Z",
     "iopub.status.idle": "2025-03-22T18:32:34.770859Z",
     "shell.execute_reply": "2025-03-22T18:32:34.770015Z",
     "shell.execute_reply.started": "2025-03-22T18:32:34.755654Z"
    },
    "trusted": true
   },
   "outputs": [],
   "source": [
    "def load_corpus(size=300_000, buffer_size=10_000, output='ka_corpus.txt', seed=42):\n",
    "    dataset = load_dataset(\n",
    "        'RichNachos/georgian-corpus',\n",
    "        streaming = True,\n",
    "        split     = 'train'\n",
    "    )\n",
    "    \n",
    "    dataset = dataset.shuffle(seed=seed, buffer_size=buffer_size).take(size)\n",
    "    \n",
    "    with open(output, 'w', encoding='utf-8') as f:\n",
    "        for example in dataset:\n",
    "            text = example['doc_content'].strip()\n",
    "\n",
    "            if text:\n",
    "                f.write(text + '\\n\\n')"
   ]
  },
  {
   "cell_type": "code",
   "execution_count": 35,
   "metadata": {
    "execution": {
     "iopub.execute_input": "2025-03-22T18:32:34.772741Z",
     "iopub.status.busy": "2025-03-22T18:32:34.772522Z",
     "iopub.status.idle": "2025-03-22T18:37:19.768462Z",
     "shell.execute_reply": "2025-03-22T18:37:19.767383Z",
     "shell.execute_reply.started": "2025-03-22T18:32:34.772722Z"
    },
    "trusted": true
   },
   "outputs": [
    {
     "data": {
      "application/vnd.jupyter.widget-view+json": {
       "model_id": "bcb21bc8e53e47a2bddc640975012329",
       "version_major": 2,
       "version_minor": 0
      },
      "text/plain": [
       "Resolving data files:   0%|          | 0/120 [00:00<?, ?it/s]"
      ]
     },
     "metadata": {},
     "output_type": "display_data"
    }
   ],
   "source": [
    "load_corpus(SIZE)"
   ]
  },
  {
   "cell_type": "code",
   "execution_count": 37,
   "metadata": {
    "execution": {
     "iopub.execute_input": "2025-03-22T18:37:20.023313Z",
     "iopub.status.busy": "2025-03-22T18:37:20.023037Z",
     "iopub.status.idle": "2025-03-22T18:37:20.027731Z",
     "shell.execute_reply": "2025-03-22T18:37:20.026907Z",
     "shell.execute_reply.started": "2025-03-22T18:37:20.023290Z"
    },
    "trusted": true
   },
   "outputs": [],
   "source": [
    "CONFIG = {\n",
    "    \"corpus_path\": \"ka_corpus.txt\",\n",
    "    \"vocab_size\": 50000,\n",
    "    \"min_frequency\": 2,\n",
    "    \"buffer_size\": 100000,\n",
    "    \"preprocess_batch_size\": 10000,\n",
    "    \"georgian_regex\": r\"[\\u10D0-\\u10F0]+\",\n",
    "    \"special_tokens\": [\"[UNK]\", \"[CLS]\", \"[SEP]\", \"[PAD]\", \"[MASK]\"]\n",
    "}"
   ]
  },
  {
   "cell_type": "code",
   "execution_count": 38,
   "metadata": {
    "execution": {
     "iopub.execute_input": "2025-03-22T18:37:20.029066Z",
     "iopub.status.busy": "2025-03-22T18:37:20.028751Z",
     "iopub.status.idle": "2025-03-22T18:37:20.050222Z",
     "shell.execute_reply": "2025-03-22T18:37:20.049376Z",
     "shell.execute_reply.started": "2025-03-22T18:37:20.029044Z"
    },
    "trusted": true
   },
   "outputs": [],
   "source": [
    "def text_generator():\n",
    "    with open(CONFIG[\"corpus_path\"], \"r\", encoding=\"utf-8\") as f:\n",
    "        batch = []\n",
    "        for line in tqdm(f, desc=\"პრეპროცესინგი\"):\n",
    "            batch.append(line.strip())\n",
    "            \n",
    "            if len(batch) >= CONFIG[\"preprocess_batch_size\"]:\n",
    "                yield from batch\n",
    "                batch = []\n",
    "                    \n",
    "        if batch:\n",
    "            yield from batch"
   ]
  },
  {
   "cell_type": "code",
   "execution_count": 39,
   "metadata": {
    "execution": {
     "iopub.execute_input": "2025-03-22T18:37:20.051761Z",
     "iopub.status.busy": "2025-03-22T18:37:20.051459Z",
     "iopub.status.idle": "2025-03-22T18:37:20.149363Z",
     "shell.execute_reply": "2025-03-22T18:37:20.148402Z",
     "shell.execute_reply.started": "2025-03-22T18:37:20.051732Z"
    },
    "trusted": true
   },
   "outputs": [],
   "source": [
    "tokenizer = Tokenizer(models.BPE(unk_token=\"[UNK]\"))"
   ]
  },
  {
   "cell_type": "code",
   "execution_count": 40,
   "metadata": {
    "execution": {
     "iopub.execute_input": "2025-03-22T18:37:20.151468Z",
     "iopub.status.busy": "2025-03-22T18:37:20.151220Z",
     "iopub.status.idle": "2025-03-22T18:37:20.707973Z",
     "shell.execute_reply": "2025-03-22T18:37:20.707018Z",
     "shell.execute_reply.started": "2025-03-22T18:37:20.151447Z"
    },
    "trusted": true
   },
   "outputs": [],
   "source": [
    "tokenizer.pre_tokenizer = pre_tokenizers.Sequence([\n",
    "    pre_tokenizers.Whitespace(),\n",
    "    pre_tokenizers.Split(\n",
    "        CONFIG[\"georgian_regex\"], \n",
    "        behavior=\"isolated\",\n",
    "        invert=False\n",
    "    )\n",
    "])\n",
    "\n",
    "trainer = trainers.BpeTrainer(\n",
    "    vocab_size=CONFIG[\"vocab_size\"],\n",
    "    min_frequency=CONFIG[\"min_frequency\"],\n",
    "    special_tokens=CONFIG[\"special_tokens\"],\n",
    "    continuing_subword_prefix=\"##\",\n",
    "    initial_alphabet=[c for c in 'აბგდევზთილმნოპჟრსტუფქღყშჩცძწჭხჯჰ'],\n",
    "    show_progress=True\n",
    ")"
   ]
  },
  {
   "cell_type": "code",
   "execution_count": 41,
   "metadata": {
    "execution": {
     "iopub.execute_input": "2025-03-22T18:37:20.710761Z",
     "iopub.status.busy": "2025-03-22T18:37:20.710516Z",
     "iopub.status.idle": "2025-03-22T18:37:20.724275Z",
     "shell.execute_reply": "2025-03-22T18:37:20.723631Z",
     "shell.execute_reply.started": "2025-03-22T18:37:20.710740Z"
    },
    "trusted": true
   },
   "outputs": [
    {
     "data": {
      "text/plain": [
       "5845911266"
      ]
     },
     "execution_count": 41,
     "metadata": {},
     "output_type": "execute_result"
    }
   ],
   "source": [
    "os.path.getsize(CONFIG[\"corpus_path\"])"
   ]
  },
  {
   "cell_type": "code",
   "execution_count": 42,
   "metadata": {
    "execution": {
     "iopub.execute_input": "2025-03-22T18:37:20.725419Z",
     "iopub.status.busy": "2025-03-22T18:37:20.725148Z",
     "iopub.status.idle": "2025-03-22T18:50:35.858386Z",
     "shell.execute_reply": "2025-03-22T18:50:35.857646Z",
     "shell.execute_reply.started": "2025-03-22T18:37:20.725386Z"
    },
    "trusted": true
   },
   "outputs": [
    {
     "data": {
      "application/vnd.jupyter.widget-view+json": {
       "model_id": "9470511a9219406e916c20a60da23018",
       "version_major": 2,
       "version_minor": 0
      },
      "text/plain": [
       "პრეპროცესინგი: 0it [00:00, ?it/s]"
      ]
     },
     "metadata": {},
     "output_type": "display_data"
    }
   ],
   "source": [
    "tokenizer.train_from_iterator(\n",
    "    iterator=text_generator(),\n",
    "    trainer=trainer,\n",
    "    length=os.path.getsize(CONFIG[\"corpus_path\"])  # პროგრესის ბარისთვის\n",
    ")"
   ]
  },
  {
   "cell_type": "code",
   "execution_count": 43,
   "metadata": {
    "execution": {
     "iopub.execute_input": "2025-03-22T18:50:35.859719Z",
     "iopub.status.busy": "2025-03-22T18:50:35.859470Z",
     "iopub.status.idle": "2025-03-22T18:50:35.901154Z",
     "shell.execute_reply": "2025-03-22T18:50:35.900153Z",
     "shell.execute_reply.started": "2025-03-22T18:50:35.859697Z"
    },
    "trusted": true
   },
   "outputs": [],
   "source": [
    "tokenizer.decoder = decoders.BPEDecoder(suffix=\"##\")\n",
    "tokenizer.save(f\"georgian_tokenizer_{SIZE}.json\")"
   ]
  },
  {
   "cell_type": "code",
   "execution_count": 44,
   "metadata": {
    "execution": {
     "iopub.execute_input": "2025-03-22T18:50:35.903171Z",
     "iopub.status.busy": "2025-03-22T18:50:35.902895Z",
     "iopub.status.idle": "2025-03-22T18:50:35.921394Z",
     "shell.execute_reply": "2025-03-22T18:50:35.920724Z",
     "shell.execute_reply.started": "2025-03-22T18:50:35.903137Z"
    },
    "trusted": true
   },
   "outputs": [
    {
     "name": "stdout",
     "output_type": "stream",
     "text": [
      "['G', '##P', '##T', '-', '4', '→', 'ხელოვნური', 'ინტელექტი', '2023']\n",
      "['„', 'ქართული', 'ენის', 'დღე', '“:', '14', 'აპრილი']\n",
      "['სამედიცინო', 'ტერმინები', ':', 'COVID', '-', '19', ',', 'M', '##RI']\n",
      "['გამარჯობა', ',', 'ჩემი', 'სახლია', 'ნიკა']\n"
     ]
    }
   ],
   "source": [
    "test_cases = [\n",
    "    \"GPT-4 → ხელოვნური ინტელექტი 2023\",\n",
    "    \"„ქართული ენის დღე“: 14 აპრილი\",\n",
    "    \"სამედიცინო ტერმინები: COVID-19, MRI\",\n",
    "    'გამარჯობა, ჩემი სახლია ნიკა',\n",
    "]\n",
    "\n",
    "for text in test_cases:\n",
    "    print(tokenizer.encode(text).tokens)"
   ]
  },
  {
   "cell_type": "code",
   "execution_count": 47,
   "metadata": {
    "execution": {
     "iopub.execute_input": "2025-03-22T18:50:52.650707Z",
     "iopub.status.busy": "2025-03-22T18:50:52.650418Z",
     "iopub.status.idle": "2025-03-22T18:50:52.655893Z",
     "shell.execute_reply": "2025-03-22T18:50:52.655204Z",
     "shell.execute_reply.started": "2025-03-22T18:50:52.650683Z"
    },
    "trusted": true
   },
   "outputs": [
    {
     "data": {
      "text/html": [
       "<a href='georgian_tokenizer_800000.json' target='_blank'>georgian_tokenizer_800000.json</a><br>"
      ],
      "text/plain": [
       "/kaggle/working/georgian_tokenizer_800000.json"
      ]
     },
     "execution_count": 47,
     "metadata": {},
     "output_type": "execute_result"
    }
   ],
   "source": [
    "from IPython.display import FileLink\n",
    "\n",
    "FileLink(f'georgian_tokenizer_{SIZE}.json')"
   ]
  }
 ],
 "metadata": {
  "kaggle": {
   "accelerator": "gpu",
   "dataSources": [],
   "dockerImageVersionId": 30918,
   "isGpuEnabled": true,
   "isInternetEnabled": true,
   "language": "python",
   "sourceType": "notebook"
  },
  "kernelspec": {
   "display_name": "Python 3",
   "language": "python",
   "name": "python3"
  },
  "language_info": {
   "codemirror_mode": {
    "name": "ipython",
    "version": 3
   },
   "file_extension": ".py",
   "mimetype": "text/x-python",
   "name": "python",
   "nbconvert_exporter": "python",
   "pygments_lexer": "ipython3",
   "version": "3.10.12"
  }
 },
 "nbformat": 4,
 "nbformat_minor": 4
}
